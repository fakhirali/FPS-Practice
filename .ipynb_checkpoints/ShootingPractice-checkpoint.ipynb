{
 "cells": [
  {
   "cell_type": "code",
   "execution_count": 1,
   "metadata": {},
   "outputs": [
    {
     "name": "stdout",
     "output_type": "stream",
     "text": [
      "pygame 1.9.6\n",
      "Hello from the pygame community. https://www.pygame.org/contribute.html\n"
     ]
    }
   ],
   "source": [
    "import pygame\n",
    "import random"
   ]
  },
  {
   "cell_type": "code",
   "execution_count": 2,
   "metadata": {
    "scrolled": true
   },
   "outputs": [
    {
     "data": {
      "text/plain": [
       "(6, 0)"
      ]
     },
     "execution_count": 2,
     "metadata": {},
     "output_type": "execute_result"
    }
   ],
   "source": [
    "pygame.init()"
   ]
  },
  {
   "cell_type": "code",
   "execution_count": 18,
   "metadata": {},
   "outputs": [],
   "source": [
    "background_colour = (255,255,255)\n",
    "end_color = (0,0,255)\n",
    "width = 1500\n",
    "height = 800"
   ]
  },
  {
   "cell_type": "code",
   "execution_count": 17,
   "metadata": {},
   "outputs": [],
   "source": [
    "class Target:\n",
    "    def __init__(self, height, width,screen):\n",
    "        self.height = height\n",
    "        self.width = width\n",
    "        self.screen = screen\n",
    "        self.color = (255,0,0)\n",
    "        self.scale = 20\n",
    "        self.pos = None\n",
    "    \n",
    "    def getPos(self):\n",
    "        x = random.randint(self.scale,self.width-self.scale)\n",
    "        y = random.randint(self.scale,self.height-self.scale)\n",
    "        return (x,y)\n",
    "\n",
    "    def draw(self):\n",
    "        self.pos = self.getPos()\n",
    "        pygame.draw.circle(screen, self.color, self.pos, self.scale)\n",
    "    "
   ]
  },
  {
   "cell_type": "code",
   "execution_count": 15,
   "metadata": {},
   "outputs": [],
   "source": [
    "screen = pygame.display.set_mode((width,height))\n",
    "pygame.display.toggle_fullscreen()\n",
    "pygame.display.set_caption(\"Shoot\")\n",
    "screen.fill(background_colour)\n",
    "t = Target(height,width,screen)\n",
    "t.draw()\n",
    "pygame.display.flip()\n",
    "\n",
    "running = True\n",
    "end = False\n",
    "while running:\n",
    "    for event in pygame.event.get():\n",
    "        if event.type == pygame.QUIT:\n",
    "            running = False\n",
    "        elif event.type == pygame.MOUSEBUTTONDOWN:\n",
    "            mpos = pygame.mouse.get_pos()\n",
    "            if abs(mpos[0] - t.pos[0]) <= t.scale and abs(mpos[1] - t.pos[1]) <= t.scale:\n",
    "                screen.fill(background_colour)\n",
    "                t = Target(height,width,screen)\n",
    "                t.draw()\n",
    "                pygame.display.flip()\n",
    "            elif not end:\n",
    "                end = True\n",
    "                screen.fill(end_color)\n",
    "            else:\n",
    "                screen.fill(background_colour)\n",
    "                t = Target(height,width,screen)\n",
    "                t.draw()\n",
    "pygame.display.quit()"
   ]
  },
  {
   "cell_type": "code",
   "execution_count": 34,
   "metadata": {},
   "outputs": [],
   "source": [
    "pygame.display.quit()"
   ]
  },
  {
   "cell_type": "code",
   "execution_count": null,
   "metadata": {},
   "outputs": [],
   "source": []
  }
 ],
 "metadata": {
  "kernelspec": {
   "display_name": "Python 3",
   "language": "python",
   "name": "python3"
  },
  "language_info": {
   "codemirror_mode": {
    "name": "ipython",
    "version": 3
   },
   "file_extension": ".py",
   "mimetype": "text/x-python",
   "name": "python",
   "nbconvert_exporter": "python",
   "pygments_lexer": "ipython3",
   "version": "3.6.4"
  }
 },
 "nbformat": 4,
 "nbformat_minor": 2
}
