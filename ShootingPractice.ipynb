{
 "cells": [
  {
   "cell_type": "code",
   "execution_count": 33,
   "metadata": {},
   "outputs": [],
   "source": [
    "import pygame\n",
    "import random\n",
    "import time\n",
    "import math"
   ]
  },
  {
   "cell_type": "code",
   "execution_count": 4,
   "metadata": {
    "scrolled": true
   },
   "outputs": [
    {
     "data": {
      "text/plain": [
       "(6, 0)"
      ]
     },
     "execution_count": 4,
     "metadata": {},
     "output_type": "execute_result"
    }
   ],
   "source": [
    "pygame.init()"
   ]
  },
  {
   "cell_type": "code",
   "execution_count": 5,
   "metadata": {},
   "outputs": [],
   "source": [
    "background_colour = (255,255,255)\n",
    "end_color = (0,0,255)\n",
    "width = 600\n",
    "height = 600"
   ]
  },
  {
   "cell_type": "code",
   "execution_count": 9,
   "metadata": {},
   "outputs": [],
   "source": [
    "class Target:\n",
    "    def __init__(self, height, width,screen):\n",
    "        self.height = height\n",
    "        self.width = width\n",
    "        self.screen = screen\n",
    "        self.color = (255,0,0)\n",
    "        self.scale = 20\n",
    "        self.pos = None\n",
    "    \n",
    "    def getPos(self):\n",
    "        x = random.randint(self.scale,self.width-self.scale)\n",
    "        y = random.randint(self.scale,self.height-self.scale)\n",
    "        return (x,y)\n",
    "\n",
    "    def draw(self):\n",
    "        self.pos = self.getPos()\n",
    "        pygame.draw.circle(screen, self.color, self.pos, self.scale)\n",
    "    "
   ]
  },
  {
   "cell_type": "code",
   "execution_count": 10,
   "metadata": {},
   "outputs": [],
   "source": [
    "def makeTarget():\n",
    "    t = Target(height,width,screen)\n",
    "    t.draw()\n",
    "    pygame.display.flip()\n",
    "    return t"
   ]
  },
  {
   "cell_type": "code",
   "execution_count": 59,
   "metadata": {},
   "outputs": [],
   "source": [
    "def DisplaySmth(thing, pos):\n",
    "    font = pygame.font.SysFont(fonts[0],32)\n",
    "    text = font.render(thing, True, background_colour)\n",
    "    screen.blit(text,(width/4,(height/4)+(32*pos)))\n",
    "    pygame.display.flip()"
   ]
  },
  {
   "cell_type": "code",
   "execution_count": 66,
   "metadata": {},
   "outputs": [],
   "source": [
    "def endDisplay(avg):\n",
    "    thing = \"Average time: \"+str(round(avg,3)) +\" s\"\n",
    "    DisplaySmth(thing,0)"
   ]
  },
  {
   "cell_type": "code",
   "execution_count": 71,
   "metadata": {},
   "outputs": [],
   "source": [
    "def DisplayCount(count):\n",
    "    thing = \"Total dots: \"+str(count)\n",
    "    DisplaySmth(thing,1)"
   ]
  },
  {
   "cell_type": "code",
   "execution_count": 72,
   "metadata": {},
   "outputs": [],
   "source": [
    "def getDistance(p,q):\n",
    "    x,y = p\n",
    "    a,b = q\n",
    "    return math.sqrt(pow((x-a),2)+pow((y-b),2))"
   ]
  },
  {
   "cell_type": "code",
   "execution_count": 73,
   "metadata": {},
   "outputs": [],
   "source": [
    "def DisplayDistance(distance):\n",
    "    thing = \"Total Distance: \" + str(round(distance,3)) + \" px\"\n",
    "    DisplaySmth(thing,2)"
   ]
  },
  {
   "cell_type": "code",
   "execution_count": 74,
   "metadata": {},
   "outputs": [],
   "source": [
    "def DisplayDistancePerSec(distancePerSec):\n",
    "    thing = \"Distance per pixel: \" + str(round(distancePerSec,3)) + \" per px\"\n",
    "    DisplaySmth(thing,3)"
   ]
  },
  {
   "cell_type": "code",
   "execution_count": 75,
   "metadata": {},
   "outputs": [],
   "source": [
    "screen = pygame.display.set_mode((width,height))\n",
    "pygame.display.toggle_fullscreen()\n",
    "pygame.display.set_caption(\"Shoot\")\n",
    "screen.fill(background_colour)\n",
    "\n",
    "t = makeTarget()\n",
    "\n",
    "distance = 0\n",
    "prevPos = (0,0)\n",
    "count = 0\n",
    "allTimes = []\n",
    "running = True\n",
    "end = False\n",
    "while running:\n",
    "    for event in pygame.event.get():\n",
    "        if event.type == pygame.QUIT:\n",
    "            running = False\n",
    "        elif event.type == pygame.MOUSEBUTTONDOWN:\n",
    "            mpos = pygame.mouse.get_pos()\n",
    "            if abs(mpos[0] - t.pos[0]) <= t.scale and abs(mpos[1] - t.pos[1]) <= t.scale:\n",
    "                count += 1\n",
    "                if timeTrack == 0:\n",
    "                    prevPos = t.pos\n",
    "                    timeTrack = time.time()\n",
    "                else:\n",
    "                    distance += getDistance(t.pos,prevPos)\n",
    "                    prevPos = t.pos\n",
    "                    allTimes.append(time.time()-timeTrack)\n",
    "                    timeTrack = time.time()\n",
    "                screen.fill(background_colour)\n",
    "                t = makeTarget()\n",
    "            elif not end:\n",
    "                end = True\n",
    "                screen.fill(end_color)\n",
    "                if len(allTimes) > 0:\n",
    "                    endDisplay(sum(allTimes)/len(allTimes))\n",
    "                    DisplayDistancePerSec(distance/sum(allTimes))\n",
    "                DisplayCount(count)\n",
    "                DisplayDistance(distance)\n",
    "                distance = 0\n",
    "                prevPos = (0,0)\n",
    "                count = 0\n",
    "                allTimes = []\n",
    "                timeTrack = 0\n",
    "                pygame.display.flip()\n",
    "            else:\n",
    "                end = False\n",
    "                screen.fill(background_colour)\n",
    "                t = Target(height,width,screen)\n",
    "                t.draw()\n",
    "                pygame.display.flip()\n",
    "                \n",
    "pygame.display.quit()"
   ]
  },
  {
   "cell_type": "code",
   "execution_count": 69,
   "metadata": {},
   "outputs": [],
   "source": [
    "pygame.display.quit()"
   ]
  },
  {
   "cell_type": "code",
   "execution_count": null,
   "metadata": {},
   "outputs": [],
   "source": []
  }
 ],
 "metadata": {
  "kernelspec": {
   "display_name": "Python 3",
   "language": "python",
   "name": "python3"
  },
  "language_info": {
   "codemirror_mode": {
    "name": "ipython",
    "version": 3
   },
   "file_extension": ".py",
   "mimetype": "text/x-python",
   "name": "python",
   "nbconvert_exporter": "python",
   "pygments_lexer": "ipython3",
   "version": "3.6.4"
  }
 },
 "nbformat": 4,
 "nbformat_minor": 2
}
